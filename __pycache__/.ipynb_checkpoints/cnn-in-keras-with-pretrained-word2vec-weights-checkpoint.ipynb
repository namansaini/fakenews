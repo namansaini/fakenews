{
 "cells": [
  {
   "cell_type": "code",
   "execution_count": 1,
   "metadata": {
    "_cell_guid": "fd1f69c4-82bc-4d9f-9e8d-943100b19382",
    "_uuid": "78bb9ac640d6625586229d046c67a7c2461c5242"
   },
   "outputs": [],
   "source": [
    "import numpy as np\n",
    "import pandas as pd"
   ]
  },
  {
   "cell_type": "code",
   "execution_count": 24,
   "metadata": {
    "_cell_guid": "50771083-1694-4319-be99-2d41b83ac492",
    "_uuid": "84556514b1f02ead3472578ae471e5fef0761f09"
   },
   "outputs": [],
   "source": [
    "data=pd.read_csv(\"fake.csv\", usecols=[2,4,5,8,19])\n",
    "test_data=data.sample(frac=0.3,random_state=200)\n",
    "train_data=data.drop(test_data.index)"
   ]
  },
  {
   "cell_type": "code",
   "execution_count": 25,
   "metadata": {
    "_cell_guid": "29e22d03-3aca-4ffd-a832-84baa7a18c9a",
    "_uuid": "663f6daba8931118803fdd688cd73fc363e7b0d3"
   },
   "outputs": [
    {
     "data": {
      "text/html": [
       "<div>\n",
       "<style scoped>\n",
       "    .dataframe tbody tr th:only-of-type {\n",
       "        vertical-align: middle;\n",
       "    }\n",
       "\n",
       "    .dataframe tbody tr th {\n",
       "        vertical-align: top;\n",
       "    }\n",
       "\n",
       "    .dataframe thead th {\n",
       "        text-align: right;\n",
       "    }\n",
       "</style>\n",
       "<table border=\"1\" class=\"dataframe\">\n",
       "  <thead>\n",
       "    <tr style=\"text-align: right;\">\n",
       "      <th></th>\n",
       "      <th>author</th>\n",
       "      <th>title</th>\n",
       "      <th>text</th>\n",
       "      <th>site_url</th>\n",
       "      <th>type</th>\n",
       "    </tr>\n",
       "  </thead>\n",
       "  <tbody>\n",
       "    <tr>\n",
       "      <th>0</th>\n",
       "      <td>Barracuda Brigade</td>\n",
       "      <td>Muslims BUSTED: They Stole Millions In Gov’t B...</td>\n",
       "      <td>Print They should pay all the back all the mon...</td>\n",
       "      <td>100percentfedup.com</td>\n",
       "      <td>bias</td>\n",
       "    </tr>\n",
       "    <tr>\n",
       "      <th>1</th>\n",
       "      <td>reasoning with facts</td>\n",
       "      <td>Re: Why Did Attorney General Loretta Lynch Ple...</td>\n",
       "      <td>Why Did Attorney General Loretta Lynch Plead T...</td>\n",
       "      <td>100percentfedup.com</td>\n",
       "      <td>bias</td>\n",
       "    </tr>\n",
       "    <tr>\n",
       "      <th>2</th>\n",
       "      <td>Barracuda Brigade</td>\n",
       "      <td>BREAKING: Weiner Cooperating With FBI On Hilla...</td>\n",
       "      <td>Red State : \\nFox News Sunday reported this mo...</td>\n",
       "      <td>100percentfedup.com</td>\n",
       "      <td>bias</td>\n",
       "    </tr>\n",
       "    <tr>\n",
       "      <th>3</th>\n",
       "      <td>Fed Up</td>\n",
       "      <td>PIN DROP SPEECH BY FATHER OF DAUGHTER Kidnappe...</td>\n",
       "      <td>Email Kayla Mueller was a prisoner and torture...</td>\n",
       "      <td>100percentfedup.com</td>\n",
       "      <td>bias</td>\n",
       "    </tr>\n",
       "    <tr>\n",
       "      <th>4</th>\n",
       "      <td>Fed Up</td>\n",
       "      <td>FANTASTIC! TRUMP'S 7 POINT PLAN To Reform Heal...</td>\n",
       "      <td>Email HEALTHCARE REFORM TO MAKE AMERICA GREAT ...</td>\n",
       "      <td>100percentfedup.com</td>\n",
       "      <td>bias</td>\n",
       "    </tr>\n",
       "  </tbody>\n",
       "</table>\n",
       "</div>"
      ],
      "text/plain": [
       "                 author                                              title  \\\n",
       "0     Barracuda Brigade  Muslims BUSTED: They Stole Millions In Gov’t B...   \n",
       "1  reasoning with facts  Re: Why Did Attorney General Loretta Lynch Ple...   \n",
       "2     Barracuda Brigade  BREAKING: Weiner Cooperating With FBI On Hilla...   \n",
       "3                Fed Up  PIN DROP SPEECH BY FATHER OF DAUGHTER Kidnappe...   \n",
       "4                Fed Up  FANTASTIC! TRUMP'S 7 POINT PLAN To Reform Heal...   \n",
       "\n",
       "                                                text             site_url  \\\n",
       "0  Print They should pay all the back all the mon...  100percentfedup.com   \n",
       "1  Why Did Attorney General Loretta Lynch Plead T...  100percentfedup.com   \n",
       "2  Red State : \\nFox News Sunday reported this mo...  100percentfedup.com   \n",
       "3  Email Kayla Mueller was a prisoner and torture...  100percentfedup.com   \n",
       "4  Email HEALTHCARE REFORM TO MAKE AMERICA GREAT ...  100percentfedup.com   \n",
       "\n",
       "   type  \n",
       "0  bias  \n",
       "1  bias  \n",
       "2  bias  \n",
       "3  bias  \n",
       "4  bias  "
      ]
     },
     "execution_count": 25,
     "metadata": {},
     "output_type": "execute_result"
    }
   ],
   "source": [
    "train_data.head()"
   ]
  },
  {
   "cell_type": "code",
   "execution_count": 26,
   "metadata": {},
   "outputs": [
    {
     "data": {
      "text/plain": [
       "239"
      ]
     },
     "execution_count": 26,
     "metadata": {},
     "output_type": "execute_result"
    }
   ],
   "source": [
    "train_data.author.nunique()\n",
    "train_data.site_url.nunique()"
   ]
  },
  {
   "cell_type": "code",
   "execution_count": 28,
   "metadata": {
    "_cell_guid": "e18aa2f8-4795-4af7-ae02-369b14663a81",
    "_uuid": "b566fe50ebd12e87e4ddfcd7d6a8395b01d4869e"
   },
   "outputs": [
    {
     "data": {
      "text/html": [
       "<div>\n",
       "<style scoped>\n",
       "    .dataframe tbody tr th:only-of-type {\n",
       "        vertical-align: middle;\n",
       "    }\n",
       "\n",
       "    .dataframe tbody tr th {\n",
       "        vertical-align: top;\n",
       "    }\n",
       "\n",
       "    .dataframe thead th {\n",
       "        text-align: right;\n",
       "    }\n",
       "</style>\n",
       "<table border=\"1\" class=\"dataframe\">\n",
       "  <thead>\n",
       "    <tr style=\"text-align: right;\">\n",
       "      <th></th>\n",
       "      <th>author</th>\n",
       "      <th>title</th>\n",
       "      <th>text</th>\n",
       "      <th>site_url</th>\n",
       "      <th>type</th>\n",
       "    </tr>\n",
       "  </thead>\n",
       "  <tbody>\n",
       "    <tr>\n",
       "      <th>12769</th>\n",
       "      <td>Eddy Lavine</td>\n",
       "      <td>Whiten Your Face By Using One Ingredient Wrink...</td>\n",
       "      <td>posted by Eddie Millions of people around the ...</td>\n",
       "      <td>worldtruth.tv</td>\n",
       "      <td>bs</td>\n",
       "    </tr>\n",
       "    <tr>\n",
       "      <th>1725</th>\n",
       "      <td>“Shoot First Ask Questions Later” : What Happe...</td>\n",
       "      <td>Comment on Senior Federal Aviation Administrat...</td>\n",
       "      <td>The “Anchorage” Incident is a well known UFO...</td>\n",
       "      <td>collective-evolution.com</td>\n",
       "      <td>bs</td>\n",
       "    </tr>\n",
       "    <tr>\n",
       "      <th>7059</th>\n",
       "      <td>Pakalert</td>\n",
       "      <td>WORLD WAR 3 – HILLARY V.S. TRUMP</td>\n",
       "      <td></td>\n",
       "      <td>pakalertpress.com</td>\n",
       "      <td>bs</td>\n",
       "    </tr>\n",
       "    <tr>\n",
       "      <th>8953</th>\n",
       "      <td>NaN</td>\n",
       "      <td>Over 20 Injured, Almost 40 Detained in Venezue...</td>\n",
       "      <td>— Alfredo Romero (@alfredoromero) October 26, ...</td>\n",
       "      <td>sputniknews.com</td>\n",
       "      <td>bs</td>\n",
       "    </tr>\n",
       "    <tr>\n",
       "      <th>5513</th>\n",
       "      <td>King World News</td>\n",
       "      <td>The Greatest Wealth Transfer In History Nears ...</td>\n",
       "      <td>43 Views November 08, 2016 GOLD , KWN King Wor...</td>\n",
       "      <td>kingworldnews.com</td>\n",
       "      <td>bs</td>\n",
       "    </tr>\n",
       "  </tbody>\n",
       "</table>\n",
       "</div>"
      ],
      "text/plain": [
       "                                                  author  \\\n",
       "12769                                        Eddy Lavine   \n",
       "1725   “Shoot First Ask Questions Later” : What Happe...   \n",
       "7059                                            Pakalert   \n",
       "8953                                                 NaN   \n",
       "5513                                     King World News   \n",
       "\n",
       "                                                   title  \\\n",
       "12769  Whiten Your Face By Using One Ingredient Wrink...   \n",
       "1725   Comment on Senior Federal Aviation Administrat...   \n",
       "7059                    WORLD WAR 3 – HILLARY V.S. TRUMP   \n",
       "8953   Over 20 Injured, Almost 40 Detained in Venezue...   \n",
       "5513   The Greatest Wealth Transfer In History Nears ...   \n",
       "\n",
       "                                                    text  \\\n",
       "12769  posted by Eddie Millions of people around the ...   \n",
       "1725     The “Anchorage” Incident is a well known UFO...   \n",
       "7059                                                       \n",
       "8953   — Alfredo Romero (@alfredoromero) October 26, ...   \n",
       "5513   43 Views November 08, 2016 GOLD , KWN King Wor...   \n",
       "\n",
       "                       site_url type  \n",
       "12769             worldtruth.tv   bs  \n",
       "1725   collective-evolution.com   bs  \n",
       "7059          pakalertpress.com   bs  \n",
       "8953            sputniknews.com   bs  \n",
       "5513          kingworldnews.com   bs  "
      ]
     },
     "execution_count": 28,
     "metadata": {},
     "output_type": "execute_result"
    }
   ],
   "source": [
    "test_data.head()"
   ]
  },
  {
   "cell_type": "code",
   "execution_count": 32,
   "metadata": {},
   "outputs": [
    {
     "name": "stdout",
     "output_type": "stream",
     "text": [
      "(8603, 5) (2919, 5)\n",
      "author      0\n",
      "title       0\n",
      "text        0\n",
      "site_url    0\n",
      "type        0\n",
      "dtype: int64\n",
      "author      0\n",
      "title       0\n",
      "text        0\n",
      "site_url    0\n",
      "type        0\n",
      "dtype: int64\n"
     ]
    }
   ],
   "source": [
    "train_data=train_data.dropna()\n",
    "test_data=test_data.dropna()\n",
    "print(train_data.shape,test_data.shape)\n",
    "print(train_data.isnull().sum())\n",
    "print(test_data.isnull().sum())"
   ]
  },
  {
   "cell_type": "code",
   "execution_count": 33,
   "metadata": {},
   "outputs": [
    {
     "data": {
      "text/html": [
       "<div>\n",
       "<style scoped>\n",
       "    .dataframe tbody tr th:only-of-type {\n",
       "        vertical-align: middle;\n",
       "    }\n",
       "\n",
       "    .dataframe tbody tr th {\n",
       "        vertical-align: top;\n",
       "    }\n",
       "\n",
       "    .dataframe thead th {\n",
       "        text-align: right;\n",
       "    }\n",
       "</style>\n",
       "<table border=\"1\" class=\"dataframe\">\n",
       "  <thead>\n",
       "    <tr style=\"text-align: right;\">\n",
       "      <th></th>\n",
       "      <th>author</th>\n",
       "      <th>title</th>\n",
       "      <th>text</th>\n",
       "      <th>site_url</th>\n",
       "      <th>type</th>\n",
       "    </tr>\n",
       "  </thead>\n",
       "  <tbody>\n",
       "    <tr>\n",
       "      <th>0</th>\n",
       "      <td>0</td>\n",
       "      <td>Muslims BUSTED: They Stole Millions In Gov’t B...</td>\n",
       "      <td>Print They should pay all the back all the mon...</td>\n",
       "      <td>0</td>\n",
       "      <td>bias</td>\n",
       "    </tr>\n",
       "    <tr>\n",
       "      <th>1</th>\n",
       "      <td>1</td>\n",
       "      <td>Re: Why Did Attorney General Loretta Lynch Ple...</td>\n",
       "      <td>Why Did Attorney General Loretta Lynch Plead T...</td>\n",
       "      <td>0</td>\n",
       "      <td>bias</td>\n",
       "    </tr>\n",
       "    <tr>\n",
       "      <th>2</th>\n",
       "      <td>0</td>\n",
       "      <td>BREAKING: Weiner Cooperating With FBI On Hilla...</td>\n",
       "      <td>Red State : \\nFox News Sunday reported this mo...</td>\n",
       "      <td>0</td>\n",
       "      <td>bias</td>\n",
       "    </tr>\n",
       "    <tr>\n",
       "      <th>3</th>\n",
       "      <td>2</td>\n",
       "      <td>PIN DROP SPEECH BY FATHER OF DAUGHTER Kidnappe...</td>\n",
       "      <td>Email Kayla Mueller was a prisoner and torture...</td>\n",
       "      <td>0</td>\n",
       "      <td>bias</td>\n",
       "    </tr>\n",
       "    <tr>\n",
       "      <th>4</th>\n",
       "      <td>2</td>\n",
       "      <td>FANTASTIC! TRUMP'S 7 POINT PLAN To Reform Heal...</td>\n",
       "      <td>Email HEALTHCARE REFORM TO MAKE AMERICA GREAT ...</td>\n",
       "      <td>0</td>\n",
       "      <td>bias</td>\n",
       "    </tr>\n",
       "  </tbody>\n",
       "</table>\n",
       "</div>"
      ],
      "text/plain": [
       "   author                                              title  \\\n",
       "0       0  Muslims BUSTED: They Stole Millions In Gov’t B...   \n",
       "1       1  Re: Why Did Attorney General Loretta Lynch Ple...   \n",
       "2       0  BREAKING: Weiner Cooperating With FBI On Hilla...   \n",
       "3       2  PIN DROP SPEECH BY FATHER OF DAUGHTER Kidnappe...   \n",
       "4       2  FANTASTIC! TRUMP'S 7 POINT PLAN To Reform Heal...   \n",
       "\n",
       "                                                text  site_url  type  \n",
       "0  Print They should pay all the back all the mon...         0  bias  \n",
       "1  Why Did Attorney General Loretta Lynch Plead T...         0  bias  \n",
       "2  Red State : \\nFox News Sunday reported this mo...         0  bias  \n",
       "3  Email Kayla Mueller was a prisoner and torture...         0  bias  \n",
       "4  Email HEALTHCARE REFORM TO MAKE AMERICA GREAT ...         0  bias  "
      ]
     },
     "execution_count": 33,
     "metadata": {},
     "output_type": "execute_result"
    }
   ],
   "source": [
    "authors=train_data.author.unique()\n",
    "dic={}\n",
    "for i,auth in enumerate(authors):\n",
    "    dic[auth]=i\n",
    "train_data.author=train_data.author.apply(lambda x:dic[x])\n",
    "sites=train_data.site_url.unique()\n",
    "dic={}\n",
    "for i,site in enumerate(sites):\n",
    "    dic[site]=i\n",
    "train_data.site_url=train_data.site_url.apply(lambda x:dic[x])\n",
    "train_data.head()"
   ]
  },
  {
   "cell_type": "markdown",
   "metadata": {
    "_cell_guid": "760bf481-0f8e-4aea-a5a6-478c87ab8e90",
    "_uuid": "97cbcd59c301c8225d5fb22e70878bf4190bd32e"
   },
   "source": [
    "### Lets make categories of authors ###"
   ]
  },
  {
   "cell_type": "code",
   "execution_count": 35,
   "metadata": {
    "_cell_guid": "6951f4bb-1519-4683-aa03-15789ad76668",
    "_uuid": "c48fed101812eaea561e1333a1c9158cd73ae128"
   },
   "outputs": [],
   "source": [
    "types=train_data.type.unique()\n",
    "dic={}\n",
    "for i,type in enumerate(types):\n",
    "    dic[type]=i\n",
    "labels=train_data.type.apply(lambda x:dic[x])"
   ]
  },
  {
   "cell_type": "markdown",
   "metadata": {
    "_cell_guid": "52e669fb-03cc-4feb-af2c-f9d7e6cee600",
    "_uuid": "8a56c49cdedaba88d515945f486374888e2dc71f"
   },
   "source": [
    "### Lets divide our training data to train and validation ###"
   ]
  },
  {
   "cell_type": "code",
   "execution_count": 42,
   "metadata": {
    "_cell_guid": "39119655-fc12-41eb-b739-c0f68cdf57a3",
    "_uuid": "c42864d9c3033c9b77632b869fbcecfc6a0a3b16"
   },
   "outputs": [],
   "source": [
    "val_data=train_data.sample(frac=0.2,random_state=200)\n",
    "train_data=train_data.drop(val_data.index)"
   ]
  },
  {
   "cell_type": "markdown",
   "metadata": {
    "_cell_guid": "8a86b60b-7303-42fe-bf6d-1e6bbd6c5e77",
    "_uuid": "4e3a192bd5a5aae37bd6a2fcb527e9855e760f47"
   },
   "source": [
    "### Tokenize text of the training data with keras text preprocessing functions ###"
   ]
  },
  {
   "cell_type": "code",
   "execution_count": 36,
   "metadata": {
    "_cell_guid": "67810d98-bc8c-49ea-8285-55cf14c74100",
    "_uuid": "de2ae8c8e7548657bac8ece11ca928205779bd33"
   },
   "outputs": [],
   "source": [
    "from tensorflow.keras.preprocessing.text import Tokenizer\n",
    "from tensorflow.keras.preprocessing.sequence import pad_sequences\n",
    "from tensorflow.keras.utils import to_categorical"
   ]
  },
  {
   "cell_type": "code",
   "execution_count": 43,
   "metadata": {
    "_cell_guid": "e7381224-7e75-4733-9de1-5e60d353bc7f",
    "_uuid": "c8d1f2f7dc08f93c34d91bedc9002b5fd5524c1d"
   },
   "outputs": [],
   "source": [
    "texts=train_data.text\n",
    "titles=train_data.title"
   ]
  },
  {
   "cell_type": "code",
   "execution_count": 44,
   "metadata": {
    "_cell_guid": "73f85346-389c-481e-b182-07436c5004cc",
    "_uuid": "d8a393afae2528f97f24fa1d49179340212582bf"
   },
   "outputs": [
    {
     "name": "stdout",
     "output_type": "stream",
     "text": [
      "Found 128462 unique tokens.\n"
     ]
    }
   ],
   "source": [
    "NUM_WORDS=20000\n",
    "tokenizer = Tokenizer(num_words=NUM_WORDS,filters='!\"#$%&()*+,-./:;<=>?@[\\\\]^_`{|}~\\t\\n\\'',lower=True)\n",
    "tokenizer.fit_on_texts(texts)\n",
    "sequences_train_text = tokenizer.texts_to_sequences(texts)\n",
    "sequences_valid_text=tokenizer.texts_to_sequences(val_data.text)\n",
    "tokenizer.fit_on_texts(titles)\n",
    "sequences_train_title = tokenizer.texts_to_sequences(titles)\n",
    "sequences_valid_title=tokenizer.texts_to_sequences(val_data.title)\n",
    "word_index = tokenizer.word_index\n",
    "print('Found %s unique tokens.' % len(word_index))"
   ]
  },
  {
   "cell_type": "code",
   "execution_count": 51,
   "metadata": {
    "_cell_guid": "2af3b95b-1560-4a2e-89c4-921a31fb9120",
    "_uuid": "e453033d2b7514d2d184d623e5d1acbd537f9487"
   },
   "outputs": [
    {
     "name": "stdout",
     "output_type": "stream",
     "text": [
      "Shape of X train and X validation tensor: (6194, 19171) (1549, 19171)\n",
      "Shape of label train and validation tensor: (6194, 8) (1549, 8)\n",
      "Shape of X train and X validation tensor: (6194, 67) (1549, 67)\n",
      "Shape of label train and validation tensor: (6194, 8) (1549, 8)\n"
     ]
    }
   ],
   "source": [
    "X_train_text = pad_sequences(sequences_train_text)\n",
    "X_val_text = pad_sequences(sequences_valid_text,maxlen=X_train_text.shape[1])\n",
    "y_train = to_categorical(np.asarray(labels[train_data.index]))\n",
    "y_val = to_categorical(np.asarray(labels[val_data.index]))\n",
    "print('Shape of X train and X validation tensor:', X_train_text.shape,X_val_text.shape)\n",
    "print('Shape of label train and validation tensor:', y_train_text.shape,y_val_text.shape)\n",
    "\n",
    "\n",
    "X_train_title = pad_sequences(sequences_train_title)\n",
    "X_val_title = pad_sequences(sequences_valid_title,maxlen=X_train_title.shape[1])\n",
    "\n",
    "print('Shape of X train and X validation tensor:', X_train_title.shape,X_val_title.shape)\n",
    "\n",
    "\n",
    "\n"
   ]
  },
  {
   "cell_type": "markdown",
   "metadata": {
    "_cell_guid": "64d4a5f7-2d3c-487d-9689-5761e79be267",
    "_uuid": "08b2df3d3ad03e9d2472c7b6ba757dee91292199"
   },
   "source": [
    "### word embedding ###"
   ]
  },
  {
   "cell_type": "code",
   "execution_count": 50,
   "metadata": {
    "_cell_guid": "b5b196d3-a98e-4eb4-b731-c3f0650567ed",
    "_uuid": "6478a820872e903b7d5a3a8b0b3a543c773eb926"
   },
   "outputs": [],
   "source": [
    "import gensim\n",
    "from gensim.models import Word2Vec\n",
    "from gensim.utils import simple_preprocess\n",
    "\n",
    "from gensim.models.keyedvectors import KeyedVectors\n",
    "\n",
    "word_vectors = KeyedVectors.load_word2vec_format('GoogleNews-vectors-negative300.bin', binary=True)\n",
    "\n",
    "EMBEDDING_DIM=300\n",
    "vocabulary_size=min(len(word_index)+1,NUM_WORDS)\n",
    "embedding_matrix = np.zeros((vocabulary_size, EMBEDDING_DIM))\n",
    "for word, i in word_index.items():\n",
    "    if i>=NUM_WORDS:\n",
    "        continue\n",
    "    try:\n",
    "        embedding_vector = word_vectors[word]\n",
    "        embedding_matrix[i] = embedding_vector\n",
    "    except KeyError:\n",
    "        embedding_matrix[i]=np.random.normal(0,np.sqrt(0.25),EMBEDDING_DIM)\n",
    "\n",
    "del(word_vectors)\n",
    "\n",
    "from tensorflow.keras.layers import Embedding\n",
    "embedding_layer = Embedding(vocabulary_size,EMBEDDING_DIM, weights=[embedding_matrix],trainable=True)"
   ]
  },
  {
   "cell_type": "markdown",
   "metadata": {},
   "source": [
    "### Lets create the network and train it as long as validation loss goes down  ###"
   ]
  },
  {
   "cell_type": "code",
   "execution_count": 17,
   "metadata": {
    "_cell_guid": "e2f3c6e4-ff65-4129-8860-3ead1a5dcb4b",
    "_uuid": "6b15fab22852ebbe324b9b0143baa98b58074dff"
   },
   "outputs": [],
   "source": [
    "from tensorflow.keras.layers import Dense, Input, GlobalMaxPooling1D\n",
    "from tensorflow.keras.layers import Conv1D, MaxPooling1D, Embedding\n",
    "from tensorflow.keras.models import Model\n",
    "from tensorflow.keras.layers import Input, Dense, Embedding, Conv2D, MaxPooling2D, Dropout,concatenate\n",
    "from tensorflow.keras.layers.core import Reshape, Flatten\n",
    "from tensorflow.keras.callbacks import EarlyStopping\n",
    "from tensorflow.keras.optimizers import Adam\n",
    "from tensorflow.keras.models import Model\n",
    "from tensorflow.keras import regularizers\n",
    "sequence_length_title = X_train_title.shape[1]\n",
    "sequence_length_text=X_train_text.shape[1]\n",
    "filter_sizes = [3,4,5]\n",
    "num_filters = 100\n",
    "drop = 0.5\n",
    "\n",
    "\n",
    "#title layer\n",
    "inputs_title = Input(shape=(sequence_length_title,))\n",
    "embedding_title = embedding_layer(inputs_title)\n",
    "reshape_title = Reshape((sequence_length_title,EMBEDDING_DIM,1))(embedding)\n",
    "\n",
    "conv_0_title = Conv2D(num_filters, (filter_sizes[0], EMBEDDING_DIM),activation='relu',kernel_regularizer=regularizers.l2(0.01))(reshape_title)\n",
    "conv_1_title = Conv2D(num_filters, (filter_sizes[1], EMBEDDING_DIM),activation='relu',kernel_regularizer=regularizers.l2(0.01))(reshape_title)\n",
    "conv_2_title = Conv2D(num_filters, (filter_sizes[2], EMBEDDING_DIM),activation='relu',kernel_regularizer=regularizers.l2(0.01))(reshape_title)\n",
    "\n",
    "maxpool_0_title = MaxPooling2D((sequence_length_title - filter_sizes[0] + 1, 1), strides=(1,1))(conv_0_title)\n",
    "maxpool_1_title = MaxPooling2D((sequence_length_title - filter_sizes[1] + 1, 1), strides=(1,1))(conv_1_title)\n",
    "maxpool_2_title = MaxPooling2D((sequence_length_title - filter_sizes[2] + 1, 1), strides=(1,1))(conv_2_title)\n",
    "\n",
    "merged_tensor_title = concatenate([maxpool_0_title, maxpool_1_title, maxpool_2_title], axis=1)\n",
    "flatten = Flatten()(merged_tensor)\n",
    "reshape = Reshape((3*num_filters,))(flatten)\n",
    "dropout = Dropout(drop)(flatten)\n",
    "output = Dense(units=3, activation='softmax',kernel_regularizer=regularizers.l2(0.01))(dropout)\n",
    "\n",
    "# this creates a model that includes\n",
    "model = Model(inputs, output)"
   ]
  },
  {
   "cell_type": "code",
   "execution_count": null,
   "metadata": {
    "_cell_guid": "dcfdc51e-7c75-4314-b34f-25bf2e47b3de",
    "_uuid": "203f236bfd9d22392cf8de296ba162e6ea1fc341"
   },
   "outputs": [
    {
     "name": "stdout",
     "output_type": "stream",
     "text": [
      "Train on 15663 samples, validate on 3916 samples\n",
      "Epoch 1/10\n"
     ]
    }
   ],
   "source": [
    "adam = Adam(lr=1e-3)\n",
    "\n",
    "model.compile(loss='categorical_crossentropy',\n",
    "              optimizer=adam,\n",
    "              metrics=['acc'])\n",
    "callbacks = [EarlyStopping(monitor='val_loss')]\n",
    "model.fit(X_train, y_train, batch_size=1000, epochs=10, verbose=1, validation_data=(X_val, y_val),\n",
    "         callbacks=callbacks)  # starts training\n",
    "\n",
    "\n"
   ]
  },
  {
   "cell_type": "markdown",
   "metadata": {
    "_cell_guid": "048734be-7046-4f3d-bb66-aa4321f56205",
    "_uuid": "89ced26b55b7fb07ee6ee6f5d866b1a54e27b612",
    "collapsed": true
   },
   "source": [
    "### now lets use our model to predict test data ###"
   ]
  },
  {
   "cell_type": "code",
   "execution_count": null,
   "metadata": {
    "_cell_guid": "aab8ced3-1224-4155-9d3d-f7a33e9575dc",
    "_uuid": "b1ccc147faeb6eb331be53d3d70489cb24b5d294",
    "collapsed": true
   },
   "outputs": [],
   "source": [
    "sequences_test=tokenizer.texts_to_sequences(test_data.text)\n",
    "X_test = pad_sequences(sequences_test,maxlen=X_train.shape[1])\n",
    "y_pred=model.predict(X_test)"
   ]
  },
  {
   "cell_type": "code",
   "execution_count": null,
   "metadata": {
    "_cell_guid": "8fd503ca-579a-499d-a3d9-3e1f52fb380d",
    "_uuid": "57402e363150b39eea3af18f97e7ad73594a40ac",
    "collapsed": true
   },
   "outputs": [],
   "source": [
    "to_submit=pd.DataFrame(index=test_data.id,data={'EAP':y_pred[:,dic['EAP']],\n",
    "                                                'HPL':y_pred[:,dic['HPL']],\n",
    "                                                'MWS':y_pred[:,dic['MWS']]})"
   ]
  },
  {
   "cell_type": "code",
   "execution_count": null,
   "metadata": {
    "_cell_guid": "68af55f4-eafc-4b2f-b327-34fb6d21e6be",
    "_uuid": "da218d48054d2fa0d6c67cd77a1dba36c1497e2c",
    "collapsed": true
   },
   "outputs": [],
   "source": [
    "to_submit.to_csv('submit.csv')"
   ]
  },
  {
   "cell_type": "code",
   "execution_count": null,
   "metadata": {
    "_cell_guid": "a2446c4f-10fa-486d-913a-bae4dbe3d34a",
    "_uuid": "2a7dafacf61e979c315b05c1f4b7c590d9aeda5b",
    "collapsed": true
   },
   "outputs": [],
   "source": []
  }
 ],
 "metadata": {
  "kernelspec": {
   "display_name": "Python 3",
   "language": "python",
   "name": "python3"
  },
  "language_info": {
   "codemirror_mode": {
    "name": "ipython",
    "version": 3
   },
   "file_extension": ".py",
   "mimetype": "text/x-python",
   "name": "python",
   "nbconvert_exporter": "python",
   "pygments_lexer": "ipython3",
   "version": "3.6.1"
  }
 },
 "nbformat": 4,
 "nbformat_minor": 1
}
